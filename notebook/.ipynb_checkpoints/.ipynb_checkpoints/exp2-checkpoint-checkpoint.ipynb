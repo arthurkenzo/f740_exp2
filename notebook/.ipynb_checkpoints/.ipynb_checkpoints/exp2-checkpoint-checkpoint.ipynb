{
 "cells": [
  {
   "cell_type": "code",
   "execution_count": 1,
   "id": "01bb09fd",
   "metadata": {},
   "outputs": [],
   "source": [
    "import numpy as np\n",
    "import pandas as pd\n",
    "import matplotlib as mpl\n",
    "import matplotlib.pyplot as plt\n",
    "import os\n",
    "import glob\n",
    "from scipy.optimize import curve_fit\n",
    "from scipy import stats\n",
    "from sklearn.linear_model import LinearRegression \n",
    "\n",
    "plt.rcParams.update({'font.size': 12})"
   ]
  },
  {
   "cell_type": "code",
   "execution_count": 2,
   "id": "b41fda60",
   "metadata": {},
   "outputs": [],
   "source": [
    "def signaltonoise(a, axis=0, ddof=0):\n",
    "    a = np.asanyarray(a)\n",
    "    m = a.mean(axis)\n",
    "    sd = a.std(axis=axis, ddof=ddof)\n",
    "    return m/sd"
   ]
  },
  {
   "cell_type": "code",
   "execution_count": 4,
   "id": "6df88bd8",
   "metadata": {},
   "outputs": [
    {
     "name": "stdout",
     "output_type": "stream",
     "text": [
      "C:\\Users\\Arthur\\Documents\\000 UNICAMP\\F740\\exp2\\notebook\\.ipynb_checkpoints\n",
      "[]\n"
     ]
    },
    {
     "ename": "IndexError",
     "evalue": "list index out of range",
     "output_type": "error",
     "traceback": [
      "\u001b[1;31m---------------------------------------------------------------------------\u001b[0m",
      "\u001b[1;31mIndexError\u001b[0m                                Traceback (most recent call last)",
      "Input \u001b[1;32mIn [4]\u001b[0m, in \u001b[0;36m<cell line: 12>\u001b[1;34m()\u001b[0m\n\u001b[0;32m      8\u001b[0m i \u001b[38;5;241m=\u001b[39m \u001b[38;5;241m0\u001b[39m\n\u001b[0;32m      9\u001b[0m \u001b[38;5;66;03m# lendo o data frame na file_list\u001b[39;00m\n\u001b[0;32m     10\u001b[0m \u001b[38;5;66;03m# df = pd.read_table(file_list[i], header = 17, decimal=\",\")\u001b[39;00m\n\u001b[1;32m---> 12\u001b[0m df \u001b[38;5;241m=\u001b[39m [pd\u001b[38;5;241m.\u001b[39mread_table(file_list[i], header \u001b[38;5;241m=\u001b[39m \u001b[38;5;241m17\u001b[39m, decimal\u001b[38;5;241m=\u001b[39m\u001b[38;5;124m\"\u001b[39m\u001b[38;5;124m,\u001b[39m\u001b[38;5;124m\"\u001b[39m) \u001b[38;5;28;01mfor\u001b[39;00m i \u001b[38;5;129;01min\u001b[39;00m \u001b[38;5;28mrange\u001b[39m(\u001b[38;5;241m4\u001b[39m)]\n\u001b[0;32m     13\u001b[0m nomes \u001b[38;5;241m=\u001b[39m [\u001b[38;5;124m'\u001b[39m\u001b[38;5;124mEstanho\u001b[39m\u001b[38;5;124m'\u001b[39m, \u001b[38;5;124m'\u001b[39m\u001b[38;5;124mCobre\u001b[39m\u001b[38;5;124m'\u001b[39m, \u001b[38;5;124m'\u001b[39m\u001b[38;5;124mMolibdênio\u001b[39m\u001b[38;5;124m'\u001b[39m, \u001b[38;5;124m'\u001b[39m\u001b[38;5;124mSilício\u001b[39m\u001b[38;5;124m'\u001b[39m, \u001b[38;5;124m'\u001b[39m\u001b[38;5;124mGrafite\u001b[39m\u001b[38;5;124m'\u001b[39m]\n\u001b[0;32m     15\u001b[0m \u001b[38;5;66;03m# ajeitando os dados\u001b[39;00m\n",
      "Input \u001b[1;32mIn [4]\u001b[0m, in \u001b[0;36m<listcomp>\u001b[1;34m(.0)\u001b[0m\n\u001b[0;32m      8\u001b[0m i \u001b[38;5;241m=\u001b[39m \u001b[38;5;241m0\u001b[39m\n\u001b[0;32m      9\u001b[0m \u001b[38;5;66;03m# lendo o data frame na file_list\u001b[39;00m\n\u001b[0;32m     10\u001b[0m \u001b[38;5;66;03m# df = pd.read_table(file_list[i], header = 17, decimal=\",\")\u001b[39;00m\n\u001b[1;32m---> 12\u001b[0m df \u001b[38;5;241m=\u001b[39m [pd\u001b[38;5;241m.\u001b[39mread_table(\u001b[43mfile_list\u001b[49m\u001b[43m[\u001b[49m\u001b[43mi\u001b[49m\u001b[43m]\u001b[49m, header \u001b[38;5;241m=\u001b[39m \u001b[38;5;241m17\u001b[39m, decimal\u001b[38;5;241m=\u001b[39m\u001b[38;5;124m\"\u001b[39m\u001b[38;5;124m,\u001b[39m\u001b[38;5;124m\"\u001b[39m) \u001b[38;5;28;01mfor\u001b[39;00m i \u001b[38;5;129;01min\u001b[39;00m \u001b[38;5;28mrange\u001b[39m(\u001b[38;5;241m4\u001b[39m)]\n\u001b[0;32m     13\u001b[0m nomes \u001b[38;5;241m=\u001b[39m [\u001b[38;5;124m'\u001b[39m\u001b[38;5;124mEstanho\u001b[39m\u001b[38;5;124m'\u001b[39m, \u001b[38;5;124m'\u001b[39m\u001b[38;5;124mCobre\u001b[39m\u001b[38;5;124m'\u001b[39m, \u001b[38;5;124m'\u001b[39m\u001b[38;5;124mMolibdênio\u001b[39m\u001b[38;5;124m'\u001b[39m, \u001b[38;5;124m'\u001b[39m\u001b[38;5;124mSilício\u001b[39m\u001b[38;5;124m'\u001b[39m, \u001b[38;5;124m'\u001b[39m\u001b[38;5;124mGrafite\u001b[39m\u001b[38;5;124m'\u001b[39m]\n\u001b[0;32m     15\u001b[0m \u001b[38;5;66;03m# ajeitando os dados\u001b[39;00m\n",
      "\u001b[1;31mIndexError\u001b[0m: list index out of range"
     ]
    }
   ],
   "source": [
    "path = os.getcwd()\n",
    "print(path) \n",
    "\n",
    "#file_list contem somente os dados com resposta de frequencia\n",
    "file_list = sorted(glob.glob('*amostra*.txt'))\n",
    "print(file_list)\n",
    "\n",
    "i = 0\n",
    "# lendo o data frame na file_list\n",
    "# df = pd.read_table(file_list[i], header = 17, decimal=\",\")\n",
    "\n",
    "df = [pd.read_table(file_list[i], header = 17, decimal=\",\") for i in range(4)]\n",
    "nomes = ['Estanho', 'Cobre', 'Molibdênio', 'Silício', 'Grafite']\n",
    "\n",
    "# ajeitando os dados\n",
    "for i in range(5):\n",
    "    df[i].rename(columns = {list(df[i])[0]: 'angulo'}, inplace = True)\n",
    "    df[i].rename(columns = {list(df[i])[1]: 'intensidade'}, inplace = True)\n",
    "    df[i] = df[i][:-1]\n",
    "    df[i]['angulo'] = [x.replace(',', '.') for x in df[i]['angulo']]\n",
    "    df[i]['angulo'] = df[i]['angulo'].astype(float)\n",
    "    \n",
    "# df.rename(columns = {list(df)[0]: 'angulo'}, inplace = True)\n",
    "# df.rename(columns = {list(df)[1]: 'intensidade'}, inplace = True)\n",
    "# df = df[:-1]\n",
    "# df['angulo'] = [x.replace(',', '.') for x in df['angulo']]\n",
    "# df['angulo'] = df['angulo'].astype(float)    \n",
    "df[0]"
   ]
  },
  {
   "cell_type": "code",
   "execution_count": 5,
   "id": "ea475dd3",
   "metadata": {},
   "outputs": [
    {
     "ename": "NameError",
     "evalue": "name 'df' is not defined",
     "output_type": "error",
     "traceback": [
      "\u001b[1;31m---------------------------------------------------------------------------\u001b[0m",
      "\u001b[1;31mNameError\u001b[0m                                 Traceback (most recent call last)",
      "Input \u001b[1;32mIn [5]\u001b[0m, in \u001b[0;36m<cell line: 1>\u001b[1;34m()\u001b[0m\n\u001b[1;32m----> 1\u001b[0m \u001b[38;5;28mprint\u001b[39m(signaltonoise(\u001b[43mdf\u001b[49m[\u001b[38;5;241m0\u001b[39m][\u001b[38;5;124m'\u001b[39m\u001b[38;5;124mintensidade\u001b[39m\u001b[38;5;124m'\u001b[39m]))\n",
      "\u001b[1;31mNameError\u001b[0m: name 'df' is not defined"
     ]
    }
   ],
   "source": [
    "print(signaltonoise(df[0]['intensidade']))"
   ]
  },
  {
   "cell_type": "code",
   "execution_count": 6,
   "id": "06c8e2fc",
   "metadata": {},
   "outputs": [],
   "source": [
    "\"\"\" Função geral para plotar os espectros de cada amostra \"\"\"\n",
    "\n",
    "def plot_spectro(df, color, name, xlim=(0,100), ylim=(0,100)):\n",
    "    \n",
    "    plt.figure(figsize=(10,5))\n",
    "    plt.plot(df['angulo'], df['intensidade'], alpha=0.7, color = 'dodgerblue', label='Dados coletados')\n",
    "#     plt.plot(df['angulo'], df['intensidade'].rolling(5).mean(), alpha=0.7, color = 'red', label='Média movel')\n",
    "    plt.grid(True, alpha = 0.7)\n",
    "\n",
    "    plt.xlabel(r'Ângulo de medida ($2 \\theta$)', size=14)\n",
    "    plt.ylabel('Intensidade (contagens)', size=14)\n",
    "    plt.yticks(size=12)\n",
    "    plt.xticks(size=12)\n",
    "    plt.title('Intensidade dos raios-x refletidos de uma amostra de {}\\n'\n",
    "              'em função do ângulo de medida'.format(name),\n",
    "              size=16)\n",
    "\n",
    "    plt.xlim(xlim)\n",
    "    plt.ylim(ylim)\n",
    "    plt.legend(loc='upper left')\n",
    "\n",
    "\n",
    "    plt.tight_layout()\n",
    "    plt.savefig('spectro_{}.pdf'.format(name))"
   ]
  },
  {
   "cell_type": "code",
   "execution_count": 7,
   "id": "04a16cbd",
   "metadata": {},
   "outputs": [
    {
     "ename": "NameError",
     "evalue": "name 'df' is not defined",
     "output_type": "error",
     "traceback": [
      "\u001b[1;31m---------------------------------------------------------------------------\u001b[0m",
      "\u001b[1;31mNameError\u001b[0m                                 Traceback (most recent call last)",
      "Input \u001b[1;32mIn [7]\u001b[0m, in \u001b[0;36m<cell line: 1>\u001b[1;34m()\u001b[0m\n\u001b[0;32m      1\u001b[0m \u001b[38;5;28;01mfor\u001b[39;00m i \u001b[38;5;129;01min\u001b[39;00m \u001b[38;5;28mrange\u001b[39m(\u001b[38;5;241m4\u001b[39m):\n\u001b[1;32m----> 2\u001b[0m     plot_spectro(\u001b[43mdf\u001b[49m[i], \u001b[38;5;124m'\u001b[39m\u001b[38;5;124mred\u001b[39m\u001b[38;5;124m'\u001b[39m, nomes[i], (df[i][\u001b[38;5;124m'\u001b[39m\u001b[38;5;124mangulo\u001b[39m\u001b[38;5;124m'\u001b[39m]\u001b[38;5;241m.\u001b[39miloc[\u001b[38;5;241m0\u001b[39m], df[i][\u001b[38;5;124m'\u001b[39m\u001b[38;5;124mangulo\u001b[39m\u001b[38;5;124m'\u001b[39m]\u001b[38;5;241m.\u001b[39miloc[\u001b[38;5;241m-\u001b[39m\u001b[38;5;241m1\u001b[39m]), \u001b[38;5;241m0\u001b[39m)\n",
      "\u001b[1;31mNameError\u001b[0m: name 'df' is not defined"
     ]
    }
   ],
   "source": [
    "for i in range(4):\n",
    "    plot_spectro(df[i], 'red', nomes[i], (df[i]['angulo'].iloc[0], df[i]['angulo'].iloc[-1]), 0)"
   ]
  },
  {
   "cell_type": "code",
   "execution_count": null,
   "id": "f600a4e3",
   "metadata": {},
   "outputs": [],
   "source": []
  },
  {
   "cell_type": "code",
   "execution_count": null,
   "id": "e42c068a",
   "metadata": {},
   "outputs": [],
   "source": []
  }
 ],
 "metadata": {
  "kernelspec": {
   "display_name": "Python 3 (ipykernel)",
   "language": "python",
   "name": "python3"
  },
  "language_info": {
   "codemirror_mode": {
    "name": "ipython",
    "version": 3
   },
   "file_extension": ".py",
   "mimetype": "text/x-python",
   "name": "python",
   "nbconvert_exporter": "python",
   "pygments_lexer": "ipython3",
   "version": "3.9.5"
  }
 },
 "nbformat": 4,
 "nbformat_minor": 5
}
